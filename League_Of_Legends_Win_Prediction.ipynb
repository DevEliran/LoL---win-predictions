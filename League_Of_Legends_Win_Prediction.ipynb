{
  "nbformat": 4,
  "nbformat_minor": 0,
  "metadata": {
    "colab": {
      "name": "League Of Legends  - Win Prediction",
      "provenance": [],
      "collapsed_sections": []
    },
    "kernelspec": {
      "name": "python3",
      "display_name": "Python 3"
    }
  },
  "cells": [
    {
      "cell_type": "markdown",
      "metadata": {
        "id": "qvM1By97e-0w",
        "colab_type": "text"
      },
      "source": [
        "First you will have to install some packages."
      ]
    },
    {
      "cell_type": "code",
      "metadata": {
        "id": "H6OSoNtrbAqs",
        "colab_type": "code",
        "colab": {}
      },
      "source": [
        "!pip install -q sklearn"
      ],
      "execution_count": null,
      "outputs": []
    },
    {
      "cell_type": "code",
      "metadata": {
        "id": "oXLfehambz8X",
        "colab_type": "code",
        "colab": {}
      },
      "source": [
        "pip install -q tensorflow>=2 tfds-nightly matplotlib"
      ],
      "execution_count": null,
      "outputs": []
    },
    {
      "cell_type": "code",
      "metadata": {
        "id": "P-hlRmg-fbSc",
        "colab_type": "code",
        "colab": {}
      },
      "source": [
        "!pip install -q kaggle"
      ],
      "execution_count": null,
      "outputs": []
    },
    {
      "cell_type": "markdown",
      "metadata": {
        "id": "CyLaVCxlfKjx",
        "colab_type": "text"
      },
      "source": [
        "The following line is required only if you are running this on a notebook"
      ]
    },
    {
      "cell_type": "code",
      "metadata": {
        "id": "gW9KeZgzbMU6",
        "colab_type": "code",
        "colab": {}
      },
      "source": [
        "%tensorflow_version 2.x"
      ],
      "execution_count": null,
      "outputs": []
    },
    {
      "cell_type": "markdown",
      "metadata": {
        "id": "JvKNLwPofUsL",
        "colab_type": "text"
      },
      "source": [
        "In this notebook, I will be using a dataset from kaggle.  \n",
        "In order for you to load the dataset without downloading it first from kaggle and then uploading it, you can get a key from kaggle's API, which will be in a file ```kaggle.json```.\n",
        "When you get this file, run the following line and upload it here."
      ]
    },
    {
      "cell_type": "code",
      "metadata": {
        "id": "BA-LoR3td1yu",
        "colab_type": "code",
        "colab": {}
      },
      "source": [
        "# Upload kaggle API key file\n",
        "uploaded = files.upload()"
      ],
      "execution_count": null,
      "outputs": []
    },
    {
      "cell_type": "markdown",
      "metadata": {
        "id": "5v_MRRbCgM96",
        "colab_type": "text"
      },
      "source": [
        "After uploading ```kaggle.json``` these lines will make sure that the file is in the right directory and only you have permissons to view it.<br>\n",
        "Moreover, the third line downloads the dataset we will be working with."
      ]
    },
    {
      "cell_type": "code",
      "metadata": {
        "id": "aYGJdceTegSY",
        "colab_type": "code",
        "colab": {}
      },
      "source": [
        "!mkdir ~/.kaggle\n",
        "!cp /content/kaggle.json ~/.kaggle/kaggle.json"
      ],
      "execution_count": null,
      "outputs": []
    },
    {
      "cell_type": "code",
      "metadata": {
        "id": "f3R-ZrDxfeM0",
        "colab_type": "code",
        "colab": {}
      },
      "source": [
        "!chmod 600 /root/.kaggle/kaggle.json "
      ],
      "execution_count": 8,
      "outputs": []
    },
    {
      "cell_type": "code",
      "metadata": {
        "id": "TbUh3DOleNdp",
        "colab_type": "code",
        "colab": {}
      },
      "source": [
        "!!kaggle datasets download -d gyejr95/league-of-legends-challenger-ranked-games2020"
      ],
      "execution_count": null,
      "outputs": []
    },
    {
      "cell_type": "markdown",
      "metadata": {
        "id": "YjWX1MgmgjqX",
        "colab_type": "text"
      },
      "source": [
        "A quick check - If everything went smoothly after running the following command you should be seeing<br> these files : \n",
        "```kaggle.json```, ```league-of-legends-challenger-ranked-games-2020-zip```."
      ]
    },
    {
      "cell_type": "code",
      "metadata": {
        "id": "5pdNNUepfzr5",
        "colab_type": "code",
        "colab": {}
      },
      "source": [
        "!ls"
      ],
      "execution_count": null,
      "outputs": []
    },
    {
      "cell_type": "markdown",
      "metadata": {
        "id": "SJW-OgPlhBOj",
        "colab_type": "text"
      },
      "source": [
        "Here are the following imports we will be use on this notebook.\n",
        "Note that the line ```%matplotlib inline``` is required only if you are running from a notebook"
      ]
    },
    {
      "cell_type": "code",
      "metadata": {
        "id": "iWU38YgDbMsg",
        "colab_type": "code",
        "colab": {}
      },
      "source": [
        "import numpy as np\n",
        "import pandas as pd\n",
        "import matplotlib.pyplot as plt\n",
        "from IPython.display import clear_output\n",
        "import tensorflow.compat.v2.feature_column as fc\n",
        "import tensorflow as tf\n",
        "import pandas as pd\n",
        "from zipfile import ZipFile\n",
        "import seaborn as sns\n",
        "from google.colab import files\n",
        "%matplotlib inline\n",
        "sns.set_style('darkgrid')"
      ],
      "execution_count": null,
      "outputs": []
    },
    {
      "cell_type": "markdown",
      "metadata": {
        "id": "Pm1_11WkhSYQ",
        "colab_type": "text"
      },
      "source": [
        "Since there are actually 3 datasets zipped together in the dataset we have downloaded, here we open each file and create a dictionary which will be of the following format: ```{file_name: fileObject}```.<br>\n",
        "Try ```print(dfs)``` if the format is not clear to you."
      ]
    },
    {
      "cell_type": "code",
      "metadata": {
        "id": "7805RAYAoPZT",
        "colab_type": "code",
        "colab": {}
      },
      "source": [
        "zip_file = ZipFile('league-of-legends-challenger-ranked-games2020.zip')\n",
        "\n",
        "dfs = {text_file.filename: zip_file.open(text_file.filename)\n",
        "       for text_file in zip_file.infolist()\n",
        "       if text_file.filename.endswith('.csv')} "
      ],
      "execution_count": null,
      "outputs": []
    },
    {
      "cell_type": "markdown",
      "metadata": {
        "id": "41gBfGYJjJCN",
        "colab_type": "text"
      },
      "source": [
        "In this notebook I will be using only one of the files.<br>\n",
        "The following lines will load the data into three different dataframes."
      ]
    },
    {
      "cell_type": "code",
      "metadata": {
        "id": "3I8QQECvVlsU",
        "colab_type": "code",
        "colab": {}
      },
      "source": [
        "# Import the test and train datasets into pandas dataframe\n",
        "df_train_challenger = pd.read_csv(dfs['Challenger_Ranked_Games.csv'])\n",
        "df_for_graphs = df_train_challenger.copy(deep=True)\n",
        "df_test_challenger = df_train_challenger.copy(deep=True)"
      ],
      "execution_count": 36,
      "outputs": []
    },
    {
      "cell_type": "markdown",
      "metadata": {
        "id": "x_LaDzN8j2b5",
        "colab_type": "text"
      },
      "source": [
        "Here you can take a glimpse on how the dataset actually look like."
      ]
    },
    {
      "cell_type": "code",
      "metadata": {
        "id": "7032qWaYi9iV",
        "colab_type": "code",
        "colab": {}
      },
      "source": [
        "df_for_graphs.head()"
      ],
      "execution_count": null,
      "outputs": []
    },
    {
      "cell_type": "markdown",
      "metadata": {
        "id": "yuIm05Jyj9l6",
        "colab_type": "text"
      },
      "source": [
        "Now, from the dataframes that are not used for graphing I will pop the columns we are trying to predict."
      ]
    },
    {
      "cell_type": "code",
      "metadata": {
        "id": "MSb_kZZuqwrZ",
        "colab_type": "code",
        "colab": {}
      },
      "source": [
        "challenger_train = df_train_challenger[[\"blueWins\"]]\n",
        "challenger_test = df_test_challenger[[\"blueWins\"]]\n",
        "\n",
        "df_train_challenger.pop('blueWins')\n",
        "df_train_challenger.pop(\"redWins\")"
      ],
      "execution_count": null,
      "outputs": []
    },
    {
      "cell_type": "markdown",
      "metadata": {
        "id": "dCrqKlRMkJ5h",
        "colab_type": "text"
      },
      "source": [
        "The 'gameId' column is not relavent for the goal of this notebook, since I will be not connecting to Riot's API to get more info about each game so I will pop this column as well."
      ]
    },
    {
      "cell_type": "code",
      "metadata": {
        "id": "3ekmDmwpo2XP",
        "colab_type": "code",
        "colab": {}
      },
      "source": [
        "df_train_challenger.pop(\"gameId\")"
      ],
      "execution_count": null,
      "outputs": []
    },
    {
      "cell_type": "markdown",
      "metadata": {
        "id": "pAZdH2jpkll6",
        "colab_type": "text"
      },
      "source": [
        "Here you can see some statistics about our dataset"
      ]
    },
    {
      "cell_type": "code",
      "metadata": {
        "id": "ZOXmVOKggMQk",
        "colab_type": "code",
        "colab": {}
      },
      "source": [
        "df_train_challenger.describe()"
      ],
      "execution_count": null,
      "outputs": []
    },
    {
      "cell_type": "markdown",
      "metadata": {
        "id": "wWI_D5oil92J",
        "colab_type": "text"
      },
      "source": [
        "The following graphs should help visualize the dataset and see if there are some imbalances or what columns predict a win the best."
      ]
    },
    {
      "cell_type": "code",
      "metadata": {
        "id": "K6C1lu6-jZXO",
        "colab_type": "code",
        "colab": {}
      },
      "source": [
        "df_train_challenger.gameDuraton.hist(bins=50)"
      ],
      "execution_count": null,
      "outputs": []
    },
    {
      "cell_type": "code",
      "metadata": {
        "id": "ZPIby1gxlsiI",
        "colab_type": "code",
        "colab": {}
      },
      "source": [
        "df_train_challenger.blueFirstBlood.value_counts().plot(kind='barh')"
      ],
      "execution_count": null,
      "outputs": []
    },
    {
      "cell_type": "code",
      "metadata": {
        "id": "fsIL3sF3l5rW",
        "colab_type": "code",
        "colab": {}
      },
      "source": [
        "df_train_challenger.blueFirstDragon.value_counts().plot(kind='barh')"
      ],
      "execution_count": null,
      "outputs": []
    },
    {
      "cell_type": "code",
      "metadata": {
        "id": "J6HMXJnrmFmZ",
        "colab_type": "code",
        "colab": {}
      },
      "source": [
        "df_train_challenger.blueWardPlaced.hist(bins=50)"
      ],
      "execution_count": null,
      "outputs": []
    },
    {
      "cell_type": "code",
      "metadata": {
        "id": "nk4EjR1YmNPX",
        "colab_type": "code",
        "colab": {}
      },
      "source": [
        "pd.concat([df_train_challenger, challenger_train], axis=1).groupby('blueFirstTower').blueWins.mean().plot(kind='barh').set_xlabel('% Blue Won')"
      ],
      "execution_count": null,
      "outputs": []
    },
    {
      "cell_type": "code",
      "metadata": {
        "id": "I-xb9iaCmhfB",
        "colab_type": "code",
        "colab": {}
      },
      "source": [
        "pd.concat([df_train_challenger, challenger_train], axis=1).groupby('blueFirstBaron').blueWins.mean().plot(kind='barh').set_xlabel('% Blue Won')"
      ],
      "execution_count": null,
      "outputs": []
    },
    {
      "cell_type": "markdown",
      "metadata": {
        "id": "9F-dpGE5mbmj",
        "colab_type": "text"
      },
      "source": [
        "Each column will get a value from -1 to 1 based on how well the column predicts a win.<br>\n",
        "add ```print(blue_corr)``` to see what are these columns (can be red_corr as well)"
      ]
    },
    {
      "cell_type": "code",
      "metadata": {
        "id": "ygybGXXCqaYY",
        "colab_type": "code",
        "colab": {}
      },
      "source": [
        "blue_corr = df_for_graphs.corr()['blueWins'][:].sort_values(axis=0, ascending=False) \n",
        "red_corr = df_for_graphs.corr()['redWins'][:].sort_values(axis=0, ascending=False) "
      ],
      "execution_count": null,
      "outputs": []
    },
    {
      "cell_type": "markdown",
      "metadata": {
        "id": "4VSsC6bimyIa",
        "colab_type": "text"
      },
      "source": [
        "Here is a heatmap of all the columns with a correlation score above 0.3"
      ]
    },
    {
      "cell_type": "code",
      "metadata": {
        "id": "UnbNcCpGmyuo",
        "colab_type": "code",
        "colab": {}
      },
      "source": [
        "corr_cols = [prop for prop,corr in blue_corr.iteritems() if abs(corr)>0.3 and prop != 'blueWins' and prop != 'redWins']\n",
        "plt.figure(figsize=(26,26))\n",
        "sns.set(font_scale = 1)\n",
        "sns.heatmap(df_train_challenger[corr_cols].corr(), annot=True, linewidths=.5, linecolor='black', cmap=\"BuPu\")"
      ],
      "execution_count": null,
      "outputs": []
    },
    {
      "cell_type": "markdown",
      "metadata": {
        "id": "c0n7bO_5m7h3",
        "colab_type": "text"
      },
      "source": [
        "And another heatmap for correlation score above 0.5"
      ]
    },
    {
      "cell_type": "code",
      "metadata": {
        "id": "OQ2KKriYoluW",
        "colab_type": "code",
        "colab": {}
      },
      "source": [
        "corr_cols_2 = [prop for prop,corr in blue_corr.iteritems() if abs(corr)>0.5 and prop != 'blueWins' and prop != 'redWins']\n",
        "plt.figure(figsize=(12,12))\n",
        "sns.set(font_scale = 1)\n",
        "sns.heatmap(df_train_challenger[corr_cols_2].corr(), annot=True, linewidths=.5, linecolor='black', cmap=\"BuPu\")"
      ],
      "execution_count": null,
      "outputs": []
    },
    {
      "cell_type": "markdown",
      "metadata": {
        "id": "FxR9k5AjnfDL",
        "colab_type": "text"
      },
      "source": [
        "Now we will create the model and train it"
      ]
    },
    {
      "cell_type": "code",
      "metadata": {
        "id": "oM1dpgBPtfO7",
        "colab_type": "code",
        "colab": {}
      },
      "source": [
        "def make_input_fn(data_df, label_df, num_epochs=10, shuffle=True, batch_size=32):\n",
        "  def input_function():  # inner function, this will be returned\n",
        "    ds = tf.data.Dataset.from_tensor_slices((dict(data_df), label_df))  # create tf.data.Dataset object with data and its label\n",
        "    if shuffle:\n",
        "      ds = ds.shuffle(1000)  # randomize order of data\n",
        "    ds = ds.batch(batch_size).repeat(num_epochs)  # split dataset into batches of 32 and repeat process for number of epochs\n",
        "    return ds  # return a batch of the dataset\n",
        "  return input_function  # return a function object for use\n",
        "\n",
        "train_input_fn = make_input_fn(df_train_challenger, challenger_train)  # here we will call the input_function that was returned to us to get a dataset object we can feed to the model\n",
        "eval_input_fn = make_input_fn(df_test_challenger, challenger_test, num_epochs=1, shuffle=False)"
      ],
      "execution_count": 54,
      "outputs": []
    },
    {
      "cell_type": "code",
      "metadata": {
        "id": "VyT2Rrlsw5P2",
        "colab_type": "code",
        "colab": {}
      },
      "source": [
        "feature_columns = []\n",
        "for feature_name in corr_cols_2:\n",
        "  feature_columns.append(tf.feature_column.numeric_column(feature_name, dtype=tf.float32))"
      ],
      "execution_count": 51,
      "outputs": []
    },
    {
      "cell_type": "code",
      "metadata": {
        "id": "tmIBPuJsvXt-",
        "colab_type": "code",
        "colab": {}
      },
      "source": [
        "linear_est = tf.estimator.LinearClassifier(feature_columns=feature_columns)"
      ],
      "execution_count": null,
      "outputs": []
    },
    {
      "cell_type": "code",
      "metadata": {
        "id": "yguZ7RknwGC4",
        "colab_type": "code",
        "colab": {
          "base_uri": "https://localhost:8080/",
          "height": 34
        },
        "outputId": "cfa3da49-8124-4a6f-ced5-7e35f51cd6dd"
      },
      "source": [
        "linear_est.train(train_input_fn)  # train\n",
        "result = linear_est.evaluate(eval_input_fn)  # get model metrics/stats by testing on tetsing data\n",
        "\n",
        "clear_output()\n",
        "print('This model predicts LoL wins in ' + str(result['accuracy']*100) + '% accuracy')  # the result variable is simply a dict of stats about our model"
      ],
      "execution_count": 73,
      "outputs": [
        {
          "output_type": "stream",
          "text": [
            "This model predicts LoL wins in 90.33229351043701% accuracy\n"
          ],
          "name": "stdout"
        }
      ]
    },
    {
      "cell_type": "markdown",
      "metadata": {
        "id": "w85Opr-poXuX",
        "colab_type": "text"
      },
      "source": [
        "WORK ON THIS PART- NOT COMPLETED"
      ]
    },
    {
      "cell_type": "code",
      "metadata": {
        "id": "MFMUQTmI03KU",
        "colab_type": "code",
        "colab": {}
      },
      "source": [
        "# Build a DNN with 2 hidden layers with 30 and 10 hidden nodes each.\n",
        "classifier = tf.estimator.DNNClassifier(\n",
        "    feature_columns=feature_columns,\n",
        "    # Two hidden layers of 30 and 10 nodes respectively.\n",
        "    hidden_units=[30, 10],\n",
        "    # The model must choose between 3 classes.\n",
        "    n_classes=2)"
      ],
      "execution_count": null,
      "outputs": []
    },
    {
      "cell_type": "code",
      "metadata": {
        "id": "ax1-_Xr2zMtr",
        "colab_type": "code",
        "colab": {}
      },
      "source": [
        "def input_fn(features, batch_size=256):\n",
        "#     # Convert the inputs to a Dataset without labels.\n",
        "    return tf.data.Dataset.from_tensor_slices(dict(features)).batch(batch_size)\n",
        "# features = ['SepalLength', 'SepalWidth', 'PetalLength', 'PetalWidth']\n",
        "features = ['blueTowerKills', 'blueFirstInhibitor', 'blueInhibitorKills']\n",
        "predict = {}\n",
        "\n",
        "print(\"Please type numeric values as prompted.\")\n",
        "for feature in features:\n",
        "    val = input(feature + \": \")\n",
        "\n",
        "\n",
        "predict[feature] = [float(val)]\n",
        "\n",
        "predictions = classifier.predict(input_fn=lambda: input_fn(predict))\n",
        "for pred_dict in predictions:\n",
        "    class_id = pred_dict['class_ids'][0]\n",
        "    probability = pred_dict['probabilities'][class_id]\n",
        "\n",
        "    # print('Prediction is \"{}\" ({:.1f}%)'.format(\n",
        "    #     [class_id], 100 * probability))"
      ],
      "execution_count": null,
      "outputs": []
    },
    {
      "cell_type": "code",
      "metadata": {
        "id": "veNoDC3r0MZ9",
        "colab_type": "code",
        "colab": {}
      },
      "source": [
        ""
      ],
      "execution_count": null,
      "outputs": []
    }
  ]
}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
