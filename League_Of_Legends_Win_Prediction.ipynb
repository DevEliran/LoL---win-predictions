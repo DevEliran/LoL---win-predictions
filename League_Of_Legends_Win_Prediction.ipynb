{
  "nbformat": 4,
  "nbformat_minor": 0,
  "metadata": {
    "colab": {
      "name": "League Of Legends  - Win Prediction",
      "provenance": [],
      "collapsed_sections": []
    },
    "kernelspec": {
      "name": "python3",
      "display_name": "Python 3"
    }
  },
  "cells": [
    {
      "cell_type": "markdown",
      "metadata": {
        "id": "qvM1By97e-0w",
        "colab_type": "text"
      },
      "source": [
        "First you will have to install some packages."
      ]
    },
    {
      "cell_type": "code",
      "metadata": {
        "id": "H6OSoNtrbAqs",
        "colab_type": "code",
        "colab": {}
      },
      "source": [
        "!pip install -q sklearn"
      ],
      "execution_count": null,
      "outputs": []
    },
    {
      "cell_type": "code",
      "metadata": {
        "id": "oXLfehambz8X",
        "colab_type": "code",
        "colab": {}
      },
      "source": [
        "pip install -q tensorflow>=2 tfds-nightly matplotlib"
      ],
      "execution_count": null,
      "outputs": []
    },
    {
      "cell_type": "code",
      "metadata": {
        "id": "P-hlRmg-fbSc",
        "colab_type": "code",
        "colab": {}
      },
      "source": [
        "!pip install -q kaggle"
      ],
      "execution_count": null,
      "outputs": []
    },
    {
      "cell_type": "markdown",
      "metadata": {
        "id": "CyLaVCxlfKjx",
        "colab_type": "text"
      },
      "source": [
        "The following line is required only if you are running this on a notebook"
      ]
    },
    {
      "cell_type": "code",
      "metadata": {
        "id": "gW9KeZgzbMU6",
        "colab_type": "code",
        "colab": {}
      },
      "source": [
        "%tensorflow_version 2.x"
      ],
      "execution_count": null,
      "outputs": []
    },
    {
      "cell_type": "markdown",
      "metadata": {
        "id": "JvKNLwPofUsL",
        "colab_type": "text"
      },
      "source": [
        "In this notebook, I will be using a dataset from kaggle.  \n",
        "In order for you to load the dataset without downloading it first from kaggle and then uploading it, you can get a key from kaggle's API, which will be in a file ```kaggle.json```.\n",
        "When you get this file, run the following line and upload it here."
      ]
    },
    {
      "cell_type": "code",
      "metadata": {
        "id": "BA-LoR3td1yu",
        "colab_type": "code",
        "colab": {}
      },
      "source": [
        "# Upload kaggle API key file\n",
        "uploaded = files.upload()"
      ],
      "execution_count": null,
      "outputs": []
    },
    {
      "cell_type": "markdown",
      "metadata": {
        "id": "5v_MRRbCgM96",
        "colab_type": "text"
      },
      "source": [
        "After uploading ```kaggle.json``` these lines will make sure that the file is in the right directory and only you have permissons to view it.<br>\n",
        "Moreover, the third line downloads the dataset we will be working with."
      ]
    },
    {
      "cell_type": "code",
      "metadata": {
        "id": "aYGJdceTegSY",
        "colab_type": "code",
        "colab": {}
      },
      "source": [
        "!mkdir ~/.kaggle\n",
        "!cp /content/kaggle.json ~/.kaggle/kaggle.json"
      ],
      "execution_count": null,
      "outputs": []
    },
    {
      "cell_type": "code",
      "metadata": {
        "id": "f3R-ZrDxfeM0",
        "colab_type": "code",
        "colab": {}
      },
      "source": [
        "!chmod 600 /root/.kaggle/kaggle.json "
      ],
      "execution_count": 8,
      "outputs": []
    },
    {
      "cell_type": "code",
      "metadata": {
        "id": "TbUh3DOleNdp",
        "colab_type": "code",
        "colab": {}
      },
      "source": [
        "!!kaggle datasets download -d gyejr95/league-of-legends-challenger-ranked-games2020"
      ],
      "execution_count": null,
      "outputs": []
    },
    {
      "cell_type": "markdown",
      "metadata": {
        "id": "YjWX1MgmgjqX",
        "colab_type": "text"
      },
      "source": [
        "A quick check - If everything went smoothly after running the following command you should be seeing<br> these files : \n",
        "```kaggle.json```, ```league-of-legends-challenger-ranked-games-2020-zip```."
      ]
    },
    {
      "cell_type": "code",
      "metadata": {
        "id": "5pdNNUepfzr5",
        "colab_type": "code",
        "colab": {}
      },
      "source": [
        "!ls"
      ],
      "execution_count": null,
      "outputs": []
    },
    {
      "cell_type": "markdown",
      "metadata": {
        "id": "SJW-OgPlhBOj",
        "colab_type": "text"
      },
      "source": [
        "Here are the following imports we will be use on this notebook.\n",
        "Note that the line ```%matplotlib inline``` is required only if you are running from a notebook"
      ]
    },
    {
      "cell_type": "code",
      "metadata": {
        "id": "iWU38YgDbMsg",
        "colab_type": "code",
        "colab": {}
      },
      "source": [
        "import numpy as np\n",
        "import pandas as pd\n",
        "import matplotlib.pyplot as plt\n",
        "from IPython.display import clear_output\n",
        "import tensorflow.compat.v2.feature_column as fc\n",
        "import tensorflow as tf\n",
        "import pandas as pd\n",
        "from zipfile import ZipFile\n",
        "import seaborn as sns\n",
        "from google.colab import files\n",
        "%matplotlib inline\n",
        "sns.set_style('darkgrid')"
      ],
      "execution_count": null,
      "outputs": []
    },
    {
      "cell_type": "markdown",
      "metadata": {
        "id": "Pm1_11WkhSYQ",
        "colab_type": "text"
      },
      "source": [
        "Since there are actually 3 datasets zipped together in the dataset we have downloaded, here we open each file and create a dictionary which will be of the following format: ```{file_name: fileObject}```.<br>\n",
        "Try ```print(dfs)``` if the format is not clear to you."
      ]
    },
    {
      "cell_type": "code",
      "metadata": {
        "id": "7805RAYAoPZT",
        "colab_type": "code",
        "colab": {}
      },
      "source": [
        "zip_file = ZipFile('league-of-legends-challenger-ranked-games2020.zip')\n",
        "\n",
        "dfs = {text_file.filename: zip_file.open(text_file.filename)\n",
        "       for text_file in zip_file.infolist()\n",
        "       if text_file.filename.endswith('.csv')} "
      ],
      "execution_count": null,
      "outputs": []
    },
    {
      "cell_type": "markdown",
      "metadata": {
        "id": "41gBfGYJjJCN",
        "colab_type": "text"
      },
      "source": [
        "In this notebook I will be using only one of the files.<br>\n",
        "The following lines will load the data into three different dataframes."
      ]
    },
    {
      "cell_type": "code",
      "metadata": {
        "id": "3I8QQECvVlsU",
        "colab_type": "code",
        "colab": {}
      },
      "source": [
        "# Import the test and train datasets into pandas dataframe\n",
        "df_train_challenger = pd.read_csv(dfs['Challenger_Ranked_Games.csv'])\n",
        "df_for_graphs = df_train_challenger.copy(deep=True)\n",
        "df_test_challenger = df_train_challenger.copy(deep=True)"
      ],
      "execution_count": 36,
      "outputs": []
    },
    {
      "cell_type": "markdown",
      "metadata": {
        "id": "x_LaDzN8j2b5",
        "colab_type": "text"
      },
      "source": [
        "Here you can take a glimpse on how the dataset actually look like."
      ]
    },
    {
      "cell_type": "code",
      "metadata": {
        "id": "7032qWaYi9iV",
        "colab_type": "code",
        "colab": {}
      },
      "source": [
        "df_for_graphs.head()"
      ],
      "execution_count": null,
      "outputs": []
    },
    {
      "cell_type": "markdown",
      "metadata": {
        "id": "yuIm05Jyj9l6",
        "colab_type": "text"
      },
      "source": [
        "Now, from the dataframes that are not used for graphing I will pop the columns we are trying to predict."
      ]
    },
    {
      "cell_type": "code",
      "metadata": {
        "id": "MSb_kZZuqwrZ",
        "colab_type": "code",
        "colab": {}
      },
      "source": [
        "challenger_train = df_train_challenger[[\"blueWins\"]]\n",
        "challenger_test = df_test_challenger[[\"blueWins\"]]\n",
        "\n",
        "df_train_challenger.pop('blueWins')\n",
        "df_train_challenger.pop(\"redWins\")"
      ],
      "execution_count": null,
      "outputs": []
    },
    {
      "cell_type": "markdown",
      "metadata": {
        "id": "dCrqKlRMkJ5h",
        "colab_type": "text"
      },
      "source": [
        "The 'gameId' column is not relavent for the goal of this notebook, since I will be not connecting to Riot's API to get more info about each game so I will pop this column as well."
      ]
    },
    {
      "cell_type": "code",
      "metadata": {
        "id": "3ekmDmwpo2XP",
        "colab_type": "code",
        "colab": {}
      },
      "source": [
        "df_train_challenger.pop(\"gameId\")"
      ],
      "execution_count": null,
      "outputs": []
    },
    {
      "cell_type": "markdown",
      "metadata": {
        "id": "pAZdH2jpkll6",
        "colab_type": "text"
      },
      "source": [
        "Here you can see some statistics about our dataset"
      ]
    },
    {
      "cell_type": "code",
      "metadata": {
        "id": "ZOXmVOKggMQk",
        "colab_type": "code",
        "colab": {}
      },
      "source": [
        "df_train_challenger.describe()"
      ],
      "execution_count": null,
      "outputs": []
    },
    {
      "cell_type": "markdown",
      "metadata": {
        "id": "wWI_D5oil92J",
        "colab_type": "text"
      },
      "source": [
        "The following graphs should help visualize the dataset and see if there are some imbalances or what columns predict a win the best."
      ]
    },
    {
      "cell_type": "code",
      "metadata": {
        "id": "K6C1lu6-jZXO",
        "colab_type": "code",
        "colab": {}
      },
      "source": [
        "df_train_challenger.gameDuraton.hist(bins=50)"
      ],
      "execution_count": null,
      "outputs": []
    },
    {
      "cell_type": "code",
      "metadata": {
        "id": "ZPIby1gxlsiI",
        "colab_type": "code",
        "colab": {}
      },
      "source": [
        "df_train_challenger.blueFirstBlood.value_counts().plot(kind='barh')"
      ],
      "execution_count": null,
      "outputs": []
    },
    {
      "cell_type": "code",
      "metadata": {
        "id": "fsIL3sF3l5rW",
        "colab_type": "code",
        "colab": {}
      },
      "source": [
        "df_train_challenger.blueFirstDragon.value_counts().plot(kind='barh')"
      ],
      "execution_count": null,
      "outputs": []
    },
    {
      "cell_type": "code",
      "metadata": {
        "id": "J6HMXJnrmFmZ",
        "colab_type": "code",
        "colab": {}
      },
      "source": [
        "df_train_challenger.blueWardPlaced.hist(bins=50)"
      ],
      "execution_count": null,
      "outputs": []
    },
    {
      "cell_type": "code",
      "metadata": {
        "id": "nk4EjR1YmNPX",
        "colab_type": "code",
        "colab": {}
      },
      "source": [
        "pd.concat([df_train_challenger, challenger_train], axis=1).groupby('blueFirstTower').blueWins.mean().plot(kind='barh').set_xlabel('% Blue Won')"
      ],
      "execution_count": null,
      "outputs": []
    },
    {
      "cell_type": "code",
      "metadata": {
        "id": "I-xb9iaCmhfB",
        "colab_type": "code",
        "colab": {}
      },
      "source": [
        "pd.concat([df_train_challenger, challenger_train], axis=1).groupby('blueFirstBaron').blueWins.mean().plot(kind='barh').set_xlabel('% Blue Won')"
      ],
      "execution_count": null,
      "outputs": []
    },
    {
      "cell_type": "markdown",
      "metadata": {
        "id": "9F-dpGE5mbmj",
        "colab_type": "text"
      },
      "source": [
        "Each column will get a value from -1 to 1 based on how well the column predicts a win.<br>\n",
        "add ```print(blue_corr)``` to see what are these columns (can be red_corr as well)"
      ]
    },
    {
      "cell_type": "code",
      "metadata": {
        "id": "ygybGXXCqaYY",
        "colab_type": "code",
        "colab": {}
      },
      "source": [
        "blue_corr = df_for_graphs.corr()['blueWins'][:].sort_values(axis=0, ascending=False) \n",
        "red_corr = df_for_graphs.corr()['redWins'][:].sort_values(axis=0, ascending=False) "
      ],
      "execution_count": null,
      "outputs": []
    },
    {
      "cell_type": "markdown",
      "metadata": {
        "id": "4VSsC6bimyIa",
        "colab_type": "text"
      },
      "source": [
        "Here is a heatmap of all the columns with a correlation score above 0.3"
      ]
    },
    {
      "cell_type": "code",
      "metadata": {
        "id": "UnbNcCpGmyuo",
        "colab_type": "code",
        "colab": {}
      },
      "source": [
        "corr_cols = [prop for prop,corr in blue_corr.iteritems() if abs(corr)>0.3 and prop != 'blueWins' and prop != 'redWins']\n",
        "plt.figure(figsize=(26,26))\n",
        "sns.set(font_scale = 1)\n",
        "sns.heatmap(df_train_challenger[corr_cols].corr(), annot=True, linewidths=.5, linecolor='black', cmap=\"BuPu\")"
      ],
      "execution_count": null,
      "outputs": []
    },
    {
      "cell_type": "markdown",
      "metadata": {
        "id": "c0n7bO_5m7h3",
        "colab_type": "text"
      },
      "source": [
        "And another heatmap for correlation score above 0.5"
      ]
    },
    {
      "cell_type": "code",
      "metadata": {
        "id": "OQ2KKriYoluW",
        "colab_type": "code",
        "colab": {}
      },
      "source": [
        "corr_cols_2 = [prop for prop,corr in blue_corr.iteritems() if abs(corr)>0.5 and prop != 'blueWins' and prop != 'redWins']\n",
        "plt.figure(figsize=(12,12))\n",
        "sns.set(font_scale = 1)\n",
        "sns.heatmap(df_train_challenger[corr_cols_2].corr(), annot=True, linewidths=.5, linecolor='black', cmap=\"BuPu\")"
      ],
      "execution_count": null,
      "outputs": []
    },
    {
      "cell_type": "markdown",
      "metadata": {
        "id": "FxR9k5AjnfDL",
        "colab_type": "text"
      },
      "source": [
        "Now we will create the model and train it"
      ]
    },
    {
      "cell_type": "code",
      "metadata": {
        "id": "oM1dpgBPtfO7",
        "colab_type": "code",
        "colab": {}
      },
      "source": [
        "def make_input_fn(data_df, label_df, num_epochs=10, shuffle=True, batch_size=32):\n",
        "  def input_function():  # inner function, this will be returned\n",
        "    ds = tf.data.Dataset.from_tensor_slices((dict(data_df), label_df))  # create tf.data.Dataset object with data and its label\n",
        "    if shuffle:\n",
        "      ds = ds.shuffle(1000)  # randomize order of data\n",
        "    ds = ds.batch(batch_size).repeat(num_epochs)  # split dataset into batches of 32 and repeat process for number of epochs\n",
        "    return ds  # return a batch of the dataset\n",
        "  return input_function  # return a function object for use\n",
        "\n",
        "train_input_fn = make_input_fn(df_train_challenger, challenger_train)  # here we will call the input_function that was returned to us to get a dataset object we can feed to the model\n",
        "eval_input_fn = make_input_fn(df_test_challenger, challenger_test, num_epochs=1, shuffle=False)"
      ],
      "execution_count": 54,
      "outputs": []
    },
    {
      "cell_type": "code",
      "metadata": {
        "id": "VyT2Rrlsw5P2",
        "colab_type": "code",
        "colab": {}
      },
      "source": [
        "feature_columns = []\n",
        "for feature_name in corr_cols_2:\n",
        "  feature_columns.append(tf.feature_column.numeric_column(feature_name, dtype=tf.float32))"
      ],
      "execution_count": 51,
      "outputs": []
    },
    {
      "cell_type": "code",
      "metadata": {
        "id": "tmIBPuJsvXt-",
        "colab_type": "code",
        "colab": {}
      },
      "source": [
        "linear_est = tf.estimator.LinearClassifier(feature_columns=feature_columns)"
      ],
      "execution_count": null,
      "outputs": []
    },
    {
      "cell_type": "code",
      "metadata": {
        "id": "yguZ7RknwGC4",
        "colab_type": "code",
        "colab": {
          "base_uri": "https://localhost:8080/",
          "height": 34
        },
        "outputId": "cfa3da49-8124-4a6f-ced5-7e35f51cd6dd"
      },
      "source": [
        "linear_est.train(train_input_fn)  # train\n",
        "result = linear_est.evaluate(eval_input_fn)  # get model metrics/stats by testing on tetsing data\n",
        "\n",
        "clear_output()\n",
        "print('This model predicts LoL wins in ' + str(result['accuracy']*100) + '% accuracy')  # the result variable is simply a dict of stats about our model"
      ],
      "execution_count": 73,
      "outputs": [
        {
          "output_type": "stream",
          "text": [
            "This model predicts LoL wins in 90.33229351043701% accuracy\n"
          ],
          "name": "stdout"
        }
      ]
    },
    {
      "cell_type": "markdown",
      "metadata": {
        "id": "w85Opr-poXuX",
        "colab_type": "text"
      },
      "source": [
        "WORK ON THIS PART- NOT COMPLETED"
      ]
    },
    {
      "cell_type": "code",
      "metadata": {
        "id": "MFMUQTmI03KU",
        "colab_type": "code",
        "colab": {}
      },
      "source": [
        "# Build a DNN with 2 hidden layers with 30 and 10 hidden nodes each.\n",
        "classifier = tf.estimator.DNNClassifier(\n",
        "    feature_columns=feature_columns,\n",
        "    # Two hidden layers of 30 and 10 nodes respectively.\n",
        "    hidden_units=[30, 10],\n",
        "    # The model must choose between 3 classes.\n",
        "    n_classes=2)"
      ],
      "execution_count": null,
      "outputs": []
    },
    {
      "cell_type": "code",
      "metadata": {
        "id": "ax1-_Xr2zMtr",
        "colab_type": "code",
        "colab": {}
      },
      "source": [
        "def input_fn(features, batch_size=256):\n",
        "#     # Convert the inputs to a Dataset without labels.\n",
        "    return tf.data.Dataset.from_tensor_slices(dict(features)).batch(batch_size)\n",
        "# features = ['SepalLength', 'SepalWidth', 'PetalLength', 'PetalWidth']\n",
        "features = ['blueTowerKills', 'blueFirstInhibitor', 'blueInhibitorKills']\n",
        "predict = {}\n",
        "\n",
        "print(\"Please type numeric values as prompted.\")\n",
        "for feature in features:\n",
        "    val = input(feature + \": \")\n",
        "\n",
        "\n",
        "predict[feature] = [float(val)]\n",
        "\n",
        "predictions = classifier.predict(input_fn=lambda: input_fn(predict))\n",
        "for pred_dict in predictions:\n",
        "    class_id = pred_dict['class_ids'][0]\n",
        "    probability = pred_dict['probabilities'][class_id]\n",
        "\n",
        "    # print('Prediction is \"{}\" ({:.1f}%)'.format(\n",
        "    #     [class_id], 100 * probability))"
      ],
      "execution_count": null,
      "outputs": []
    },
    {
      "cell_type": "code",
      "metadata": {
        "id": "veNoDC3r0MZ9",
        "colab_type": "code",
        "colab": {}
      },
      "source": [
        ""
      ],
      "execution_count": null,
      "outputs": []
    }
  ]
}